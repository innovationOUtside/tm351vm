{
 "cells": [
  {
   "cell_type": "code",
   "execution_count": 8,
   "metadata": {},
   "outputs": [
    {
     "name": "stdout",
     "output_type": "stream",
     "text": [
      "\u001b[33mThe directory '/home/oustudent/.cache/pip/http' or its parent directory is not owned by the current user and the cache has been disabled. Please check the permissions and owner of that directory. If executing pip with sudo, you may want sudo's -H flag.\u001b[0m\n",
      "\u001b[33mThe directory '/home/oustudent/.cache/pip' or its parent directory is not owned by the current user and caching wheels has been disabled. check the permissions and owner of that directory. If executing pip with sudo, you may want sudo's -H flag.\u001b[0m\n",
      "Collecting jupyter-wysiwyg\n",
      "\u001b[?25l  Downloading https://files.pythonhosted.org/packages/6b/d8/3c2c13a175bd057ddcadc362772d9af47ef3f0dcb2aad67288ed4cd0c7c2/jupyter-wysiwyg-0.1.6.tar.gz (1.0MB)\n",
      "\u001b[K    100% |████████████████████████████████| 1.0MB 1.5MB/s ta 0:00:01  9% |███                             | 92kB 2.0MB/s eta 0:00:01\n",
      "\u001b[?25hRequirement already satisfied: jupyter in /usr/local/lib/python3.5/dist-packages (from jupyter-wysiwyg) (1.0.0)\n",
      "Requirement already satisfied: notebook>=4.2.0 in /usr/local/lib/python3.5/dist-packages (from jupyter-wysiwyg) (5.4.1)\n",
      "Requirement already satisfied: qtconsole in /usr/local/lib/python3.5/dist-packages (from jupyter->jupyter-wysiwyg) (4.3.1)\n",
      "Requirement already satisfied: ipykernel in /usr/local/lib/python3.5/dist-packages (from jupyter->jupyter-wysiwyg) (4.8.2)\n",
      "Requirement already satisfied: jupyter-console in /usr/local/lib/python3.5/dist-packages (from jupyter->jupyter-wysiwyg) (5.2.0)\n",
      "Requirement already satisfied: nbconvert in /usr/local/lib/python3.5/dist-packages (from jupyter->jupyter-wysiwyg) (5.3.1)\n",
      "Requirement already satisfied: ipywidgets in /usr/local/lib/python3.5/dist-packages (from jupyter->jupyter-wysiwyg) (7.2.1)\n",
      "Requirement already satisfied: nbformat in /usr/local/lib/python3.5/dist-packages (from notebook>=4.2.0->jupyter-wysiwyg) (4.4.0)\n",
      "Requirement already satisfied: jupyter-client>=5.2.0 in /usr/local/lib/python3.5/dist-packages (from notebook>=4.2.0->jupyter-wysiwyg) (5.2.3)\n",
      "Requirement already satisfied: tornado>=4 in /usr/local/lib/python3.5/dist-packages (from notebook>=4.2.0->jupyter-wysiwyg) (5.0.2)\n",
      "Requirement already satisfied: jinja2 in /usr/local/lib/python3.5/dist-packages (from notebook>=4.2.0->jupyter-wysiwyg) (2.10)\n",
      "Requirement already satisfied: ipython-genutils in /usr/local/lib/python3.5/dist-packages (from notebook>=4.2.0->jupyter-wysiwyg) (0.2.0)\n",
      "Requirement already satisfied: terminado>=0.8.1 in /usr/local/lib/python3.5/dist-packages (from notebook>=4.2.0->jupyter-wysiwyg) (0.8.1)\n",
      "Requirement already satisfied: traitlets>=4.2.1 in /usr/local/lib/python3.5/dist-packages (from notebook>=4.2.0->jupyter-wysiwyg) (4.3.2)\n",
      "Requirement already satisfied: Send2Trash in /usr/local/lib/python3.5/dist-packages (from notebook>=4.2.0->jupyter-wysiwyg) (1.5.0)\n",
      "Requirement already satisfied: jupyter-core>=4.4.0 in /usr/local/lib/python3.5/dist-packages (from notebook>=4.2.0->jupyter-wysiwyg) (4.4.0)\n",
      "Requirement already satisfied: pygments in /usr/local/lib/python3.5/dist-packages (from qtconsole->jupyter->jupyter-wysiwyg) (2.2.0)\n",
      "Requirement already satisfied: ipython>=4.0.0 in /usr/local/lib/python3.5/dist-packages (from ipykernel->jupyter->jupyter-wysiwyg) (6.3.1)\n",
      "Requirement already satisfied: prompt-toolkit<2.0.0,>=1.0.0 in /usr/local/lib/python3.5/dist-packages (from jupyter-console->jupyter->jupyter-wysiwyg) (1.0.15)\n",
      "Requirement already satisfied: pandocfilters>=1.4.1 in /usr/local/lib/python3.5/dist-packages (from nbconvert->jupyter->jupyter-wysiwyg) (1.4.2)\n",
      "Requirement already satisfied: mistune>=0.7.4 in /usr/local/lib/python3.5/dist-packages (from nbconvert->jupyter->jupyter-wysiwyg) (0.8.3)\n",
      "Requirement already satisfied: entrypoints>=0.2.2 in /usr/local/lib/python3.5/dist-packages (from nbconvert->jupyter->jupyter-wysiwyg) (0.2.3)\n",
      "Requirement already satisfied: bleach in /usr/local/lib/python3.5/dist-packages (from nbconvert->jupyter->jupyter-wysiwyg) (2.1.3)\n",
      "Requirement already satisfied: testpath in /usr/local/lib/python3.5/dist-packages (from nbconvert->jupyter->jupyter-wysiwyg) (0.3.1)\n",
      "Requirement already satisfied: widgetsnbextension~=3.2.0 in /usr/local/lib/python3.5/dist-packages (from ipywidgets->jupyter->jupyter-wysiwyg) (3.2.1)\n",
      "Requirement already satisfied: jsonschema!=2.5.0,>=2.4 in /usr/local/lib/python3.5/dist-packages (from nbformat->notebook>=4.2.0->jupyter-wysiwyg) (2.6.0)\n",
      "Requirement already satisfied: pyzmq>=13 in /usr/local/lib/python3.5/dist-packages (from jupyter-client>=5.2.0->notebook>=4.2.0->jupyter-wysiwyg) (17.0.0)\n",
      "Requirement already satisfied: python-dateutil>=2.1 in /usr/local/lib/python3.5/dist-packages (from jupyter-client>=5.2.0->notebook>=4.2.0->jupyter-wysiwyg) (2.7.2)\n",
      "Requirement already satisfied: MarkupSafe>=0.23 in /usr/local/lib/python3.5/dist-packages (from jinja2->notebook>=4.2.0->jupyter-wysiwyg) (1.0)\n",
      "Requirement already satisfied: ptyprocess; os_name != \"nt\" in /usr/local/lib/python3.5/dist-packages (from terminado>=0.8.1->notebook>=4.2.0->jupyter-wysiwyg) (0.5.2)\n",
      "Requirement already satisfied: decorator in /usr/local/lib/python3.5/dist-packages (from traitlets>=4.2.1->notebook>=4.2.0->jupyter-wysiwyg) (4.3.0)\n",
      "Requirement already satisfied: six in /usr/local/lib/python3.5/dist-packages (from traitlets>=4.2.1->notebook>=4.2.0->jupyter-wysiwyg) (1.11.0)\n",
      "Requirement already satisfied: pexpect; sys_platform != \"win32\" in /usr/local/lib/python3.5/dist-packages (from ipython>=4.0.0->ipykernel->jupyter->jupyter-wysiwyg) (4.5.0)\n",
      "Requirement already satisfied: backcall in /usr/local/lib/python3.5/dist-packages (from ipython>=4.0.0->ipykernel->jupyter->jupyter-wysiwyg) (0.1.0)\n",
      "Requirement already satisfied: jedi>=0.10 in /usr/local/lib/python3.5/dist-packages (from ipython>=4.0.0->ipykernel->jupyter->jupyter-wysiwyg) (0.12.0)\n",
      "Requirement already satisfied: setuptools>=18.5 in /usr/lib/python3/dist-packages (from ipython>=4.0.0->ipykernel->jupyter->jupyter-wysiwyg) (20.7.0)\n",
      "Requirement already satisfied: pickleshare in /usr/local/lib/python3.5/dist-packages (from ipython>=4.0.0->ipykernel->jupyter->jupyter-wysiwyg) (0.7.4)\n",
      "Requirement already satisfied: simplegeneric>0.8 in /usr/local/lib/python3.5/dist-packages (from ipython>=4.0.0->ipykernel->jupyter->jupyter-wysiwyg) (0.8.1)\n",
      "Requirement already satisfied: wcwidth in /usr/local/lib/python3.5/dist-packages (from prompt-toolkit<2.0.0,>=1.0.0->jupyter-console->jupyter->jupyter-wysiwyg) (0.1.7)\n",
      "Requirement already satisfied: html5lib!=1.0b1,!=1.0b2,!=1.0b3,!=1.0b4,!=1.0b5,!=1.0b6,!=1.0b7,!=1.0b8,>=0.99999999pre in /usr/local/lib/python3.5/dist-packages (from bleach->nbconvert->jupyter->jupyter-wysiwyg) (1.0.1)\n",
      "Requirement already satisfied: parso>=0.2.0 in /usr/local/lib/python3.5/dist-packages (from jedi>=0.10->ipython>=4.0.0->ipykernel->jupyter->jupyter-wysiwyg) (0.2.0)\n",
      "Requirement already satisfied: webencodings in /usr/local/lib/python3.5/dist-packages (from html5lib!=1.0b1,!=1.0b2,!=1.0b3,!=1.0b4,!=1.0b5,!=1.0b6,!=1.0b7,!=1.0b8,>=0.99999999pre->bleach->nbconvert->jupyter->jupyter-wysiwyg) (0.5.1)\n",
      "Installing collected packages: jupyter-wysiwyg\n",
      "  Running setup.py install for jupyter-wysiwyg ... \u001b[?25lerror\n",
      "    Complete output from command /usr/bin/python3 -u -c \"import setuptools, tokenize;__file__='/tmp/pip-install-gt5mqu1i/jupyter-wysiwyg/setup.py';f=getattr(tokenize, 'open', open)(__file__);code=f.read().replace('\\r\\n', '\\n');f.close();exec(compile(code, __file__, 'exec'))\" install --record /tmp/pip-record-d03z5ni5/install-record.txt --single-version-externally-managed --compile --user --prefix=:\n",
      "    running install\n",
      "    running build\n",
      "    running build_py\n",
      "    creating build\n",
      "    creating build/lib\n",
      "    creating build/lib/jupyter_wysiwyg\n",
      "    copying jupyter_wysiwyg/__init__.py -> build/lib/jupyter_wysiwyg\n",
      "    creating build/lib/jupyter_wysiwyg/static\n",
      "    error: can't copy 'jupyter_wysiwyg/static/ckeditor': doesn't exist or not a regular file\n",
      "    \n",
      "    ----------------------------------------\n",
      "\u001b[31mCommand \"/usr/bin/python3 -u -c \"import setuptools, tokenize;__file__='/tmp/pip-install-gt5mqu1i/jupyter-wysiwyg/setup.py';f=getattr(tokenize, 'open', open)(__file__);code=f.read().replace('\\r\\n', '\\n');f.close();exec(compile(code, __file__, 'exec'))\" install --record /tmp/pip-record-d03z5ni5/install-record.txt --single-version-externally-managed --compile --user --prefix=\" failed with error code 1 in /tmp/pip-install-gt5mqu1i/jupyter-wysiwyg/\u001b[0m\n"
     ]
    },
    {
     "name": "stdout",
     "output_type": "stream",
     "text": [
      "\u001b[?25h"
     ]
    }
   ],
   "source": [
    "!sudo pip3 install --user jupyter-wysiwyg"
   ]
  },
  {
   "cell_type": "code",
   "execution_count": 6,
   "metadata": {},
   "outputs": [],
   "source": [
    "import os\n",
    "def get_data_files():\n",
    "    directory = '.'\n",
    "    paths = []\n",
    "    for (path, directories, filenames) in os.walk(directory):\n",
    "        for filename in filenames:\n",
    "            alt_path = path\n",
    "            paths.append(\n",
    "                (alt_path, [os.path.join(path, filename)],)\n",
    "            )\n",
    "    return paths"
   ]
  },
  {
   "cell_type": "code",
   "execution_count": 9,
   "metadata": {},
   "outputs": [
    {
     "data": {
      "text/plain": [
       "'/usr/bin/python3'"
      ]
     },
     "execution_count": 9,
     "metadata": {},
     "output_type": "execute_result"
    }
   ],
   "source": [
    "import sys\n",
    "sys.executable\n"
   ]
  },
  {
   "cell_type": "code",
   "execution_count": 11,
   "metadata": {},
   "outputs": [
    {
     "name": "stdout",
     "output_type": "stream",
     "text": [
      "3.5.2 (default, Nov 23 2017, 16:37:01) \n",
      "[GCC 5.4.0 20160609]\n",
      "No LSB modules are available.\r\n",
      "Distributor ID:\tUbuntu\r\n",
      "Description:\tUbuntu 16.04.4 LTS\r\n",
      "Release:\t16.04\r\n",
      "Codename:\txenial\r\n"
     ]
    }
   ],
   "source": [
    "import sys\n",
    "print(sys.version)\n",
    "!lsb_release -a"
   ]
  },
  {
   "cell_type": "code",
   "execution_count": null,
   "metadata": {},
   "outputs": [],
   "source": []
  }
 ],
 "metadata": {
  "kernelspec": {
   "display_name": "Python 3",
   "language": "python",
   "name": "python3"
  },
  "language_info": {
   "codemirror_mode": {
    "name": "ipython",
    "version": 3
   },
   "file_extension": ".py",
   "mimetype": "text/x-python",
   "name": "python",
   "nbconvert_exporter": "python",
   "pygments_lexer": "ipython3",
   "version": "3.5.2"
  }
 },
 "nbformat": 4,
 "nbformat_minor": 2
}
